{
  "nbformat": 4,
  "nbformat_minor": 0,
  "metadata": {
    "colab": {
      "provenance": []
    },
    "kernelspec": {
      "name": "python3",
      "display_name": "Python 3"
    },
    "language_info": {
      "name": "python"
    }
  },
  "cells": [
    {
      "cell_type": "code",
      "execution_count": 28,
      "metadata": {
        "id": "_lvxcdDQ3ioj"
      },
      "outputs": [],
      "source": [
        "import pandas as pd"
      ]
    },
    {
      "cell_type": "code",
      "source": [
        "d=pd.read_csv('/content/breast_cancer_survival.csv')"
      ],
      "metadata": {
        "id": "fuYZz59N3nmB"
      },
      "execution_count": 29,
      "outputs": []
    },
    {
      "cell_type": "code",
      "source": [
        "print(d)"
      ],
      "metadata": {
        "colab": {
          "base_uri": "https://localhost:8080/"
        },
        "id": "vI5GKVJm3q4Y",
        "outputId": "2b56b043-62ed-4a39-eee5-eb8d29b822e2"
      },
      "execution_count": 30,
      "outputs": [
        {
          "output_type": "stream",
          "name": "stdout",
          "text": [
            "     Age  Gender  Protein1  Protein2  Protein3  Protein4 Tumour_Stage  \\\n",
            "0     42  FEMALE  0.952560   2.15000  0.007972 -0.048340           II   \n",
            "1     54  FEMALE  0.000000   1.38020 -0.498030 -0.507320           II   \n",
            "2     63  FEMALE -0.523030   1.76400 -0.370190  0.010815           II   \n",
            "3     78  FEMALE -0.876180   0.12943 -0.370380  0.132190            I   \n",
            "4     42  FEMALE  0.226110   1.74910 -0.543970 -0.390210           II   \n",
            "..   ...     ...       ...       ...       ...       ...          ...   \n",
            "329   59  FEMALE  0.024598   1.40050  0.024751  0.280320           II   \n",
            "330   41  FEMALE  0.100120  -0.46547  0.472370 -0.523870            I   \n",
            "331   54  FEMALE  0.753820   1.64250 -0.332850  0.857860           II   \n",
            "332   74  FEMALE  0.972510   1.42680 -0.366570 -0.107820           II   \n",
            "333   66  FEMALE  0.286380   1.39980  0.318830  0.836050           II   \n",
            "\n",
            "                          Histology ER status PR status HER2 status  \\\n",
            "0     Infiltrating Ductal Carcinoma  Positive  Positive    Negative   \n",
            "1     Infiltrating Ductal Carcinoma  Positive  Positive    Negative   \n",
            "2     Infiltrating Ductal Carcinoma  Positive  Positive    Negative   \n",
            "3     Infiltrating Ductal Carcinoma  Positive  Positive    Negative   \n",
            "4     Infiltrating Ductal Carcinoma  Positive  Positive    Positive   \n",
            "..                              ...       ...       ...         ...   \n",
            "329   Infiltrating Ductal Carcinoma  Positive  Positive    Positive   \n",
            "330   Infiltrating Ductal Carcinoma  Positive  Positive    Positive   \n",
            "331   Infiltrating Ductal Carcinoma  Positive  Positive    Negative   \n",
            "332  Infiltrating Lobular Carcinoma  Positive  Positive    Negative   \n",
            "333   Infiltrating Ductal Carcinoma  Positive  Positive    Negative   \n",
            "\n",
            "                    Surgery_type Date_of_Surgery Date_of_Last_Visit  \\\n",
            "0                          Other       20-May-18          26-Aug-18   \n",
            "1                          Other       26-Apr-18          25-Jan-19   \n",
            "2                     Lumpectomy       24-Aug-18          08-Apr-20   \n",
            "3                          Other       16-Nov-18          28-Jul-20   \n",
            "4                     Lumpectomy       12-Dec-18          05-Jan-19   \n",
            "..                           ...             ...                ...   \n",
            "329                   Lumpectomy       15-Jan-19          27-Mar-20   \n",
            "330  Modified Radical Mastectomy       25-Jul-18          23-Apr-19   \n",
            "331            Simple Mastectomy       26-Mar-19          11-Oct-19   \n",
            "332                   Lumpectomy       26-Nov-18          05-Dec-18   \n",
            "333  Modified Radical Mastectomy       04-Feb-19          10-Aug-19   \n",
            "\n",
            "    Patient_Status  \n",
            "0            Alive  \n",
            "1             Dead  \n",
            "2            Alive  \n",
            "3            Alive  \n",
            "4            Alive  \n",
            "..             ...  \n",
            "329          Alive  \n",
            "330          Alive  \n",
            "331           Dead  \n",
            "332          Alive  \n",
            "333           Dead  \n",
            "\n",
            "[334 rows x 15 columns]\n"
          ]
        }
      ]
    },
    {
      "cell_type": "code",
      "source": [
        "a=d['Gender']\n",
        "x=d.drop('Gender',axis=1)"
      ],
      "metadata": {
        "id": "hThBbKjW30EN"
      },
      "execution_count": 31,
      "outputs": []
    },
    {
      "cell_type": "code",
      "source": [
        "print(x)"
      ],
      "metadata": {
        "colab": {
          "base_uri": "https://localhost:8080/"
        },
        "id": "a3vt-THD37Nm",
        "outputId": "4403f9f4-f33a-4253-94f1-4e426afc9a18"
      },
      "execution_count": 32,
      "outputs": [
        {
          "output_type": "stream",
          "name": "stdout",
          "text": [
            "     Age  Protein1  Protein2  Protein3  Protein4 Tumour_Stage  \\\n",
            "0     42  0.952560   2.15000  0.007972 -0.048340           II   \n",
            "1     54  0.000000   1.38020 -0.498030 -0.507320           II   \n",
            "2     63 -0.523030   1.76400 -0.370190  0.010815           II   \n",
            "3     78 -0.876180   0.12943 -0.370380  0.132190            I   \n",
            "4     42  0.226110   1.74910 -0.543970 -0.390210           II   \n",
            "..   ...       ...       ...       ...       ...          ...   \n",
            "329   59  0.024598   1.40050  0.024751  0.280320           II   \n",
            "330   41  0.100120  -0.46547  0.472370 -0.523870            I   \n",
            "331   54  0.753820   1.64250 -0.332850  0.857860           II   \n",
            "332   74  0.972510   1.42680 -0.366570 -0.107820           II   \n",
            "333   66  0.286380   1.39980  0.318830  0.836050           II   \n",
            "\n",
            "                          Histology ER status PR status HER2 status  \\\n",
            "0     Infiltrating Ductal Carcinoma  Positive  Positive    Negative   \n",
            "1     Infiltrating Ductal Carcinoma  Positive  Positive    Negative   \n",
            "2     Infiltrating Ductal Carcinoma  Positive  Positive    Negative   \n",
            "3     Infiltrating Ductal Carcinoma  Positive  Positive    Negative   \n",
            "4     Infiltrating Ductal Carcinoma  Positive  Positive    Positive   \n",
            "..                              ...       ...       ...         ...   \n",
            "329   Infiltrating Ductal Carcinoma  Positive  Positive    Positive   \n",
            "330   Infiltrating Ductal Carcinoma  Positive  Positive    Positive   \n",
            "331   Infiltrating Ductal Carcinoma  Positive  Positive    Negative   \n",
            "332  Infiltrating Lobular Carcinoma  Positive  Positive    Negative   \n",
            "333   Infiltrating Ductal Carcinoma  Positive  Positive    Negative   \n",
            "\n",
            "                    Surgery_type Date_of_Surgery Date_of_Last_Visit  \\\n",
            "0                          Other       20-May-18          26-Aug-18   \n",
            "1                          Other       26-Apr-18          25-Jan-19   \n",
            "2                     Lumpectomy       24-Aug-18          08-Apr-20   \n",
            "3                          Other       16-Nov-18          28-Jul-20   \n",
            "4                     Lumpectomy       12-Dec-18          05-Jan-19   \n",
            "..                           ...             ...                ...   \n",
            "329                   Lumpectomy       15-Jan-19          27-Mar-20   \n",
            "330  Modified Radical Mastectomy       25-Jul-18          23-Apr-19   \n",
            "331            Simple Mastectomy       26-Mar-19          11-Oct-19   \n",
            "332                   Lumpectomy       26-Nov-18          05-Dec-18   \n",
            "333  Modified Radical Mastectomy       04-Feb-19          10-Aug-19   \n",
            "\n",
            "    Patient_Status  \n",
            "0            Alive  \n",
            "1             Dead  \n",
            "2            Alive  \n",
            "3            Alive  \n",
            "4            Alive  \n",
            "..             ...  \n",
            "329          Alive  \n",
            "330          Alive  \n",
            "331           Dead  \n",
            "332          Alive  \n",
            "333           Dead  \n",
            "\n",
            "[334 rows x 14 columns]\n"
          ]
        }
      ]
    },
    {
      "cell_type": "code",
      "source": [
        "x['Tumour_Stage'] = x['Tumour_Stage'].map({'I': 1, 'II': 0})\n",
        "x.to_csv(\"updated_breast_cancer_survival.csv\", index=False)"
      ],
      "metadata": {
        "id": "3Z6JuiiB39g3"
      },
      "execution_count": 33,
      "outputs": []
    },
    {
      "cell_type": "code",
      "source": [
        "print(x)"
      ],
      "metadata": {
        "colab": {
          "base_uri": "https://localhost:8080/"
        },
        "id": "zAlxPkvG4CCq",
        "outputId": "6bd194ee-79dc-48e2-e56b-6eea227d20cb"
      },
      "execution_count": 34,
      "outputs": [
        {
          "output_type": "stream",
          "name": "stdout",
          "text": [
            "     Age  Protein1  Protein2  Protein3  Protein4  Tumour_Stage  \\\n",
            "0     42  0.952560   2.15000  0.007972 -0.048340           0.0   \n",
            "1     54  0.000000   1.38020 -0.498030 -0.507320           0.0   \n",
            "2     63 -0.523030   1.76400 -0.370190  0.010815           0.0   \n",
            "3     78 -0.876180   0.12943 -0.370380  0.132190           1.0   \n",
            "4     42  0.226110   1.74910 -0.543970 -0.390210           0.0   \n",
            "..   ...       ...       ...       ...       ...           ...   \n",
            "329   59  0.024598   1.40050  0.024751  0.280320           0.0   \n",
            "330   41  0.100120  -0.46547  0.472370 -0.523870           1.0   \n",
            "331   54  0.753820   1.64250 -0.332850  0.857860           0.0   \n",
            "332   74  0.972510   1.42680 -0.366570 -0.107820           0.0   \n",
            "333   66  0.286380   1.39980  0.318830  0.836050           0.0   \n",
            "\n",
            "                          Histology ER status PR status HER2 status  \\\n",
            "0     Infiltrating Ductal Carcinoma  Positive  Positive    Negative   \n",
            "1     Infiltrating Ductal Carcinoma  Positive  Positive    Negative   \n",
            "2     Infiltrating Ductal Carcinoma  Positive  Positive    Negative   \n",
            "3     Infiltrating Ductal Carcinoma  Positive  Positive    Negative   \n",
            "4     Infiltrating Ductal Carcinoma  Positive  Positive    Positive   \n",
            "..                              ...       ...       ...         ...   \n",
            "329   Infiltrating Ductal Carcinoma  Positive  Positive    Positive   \n",
            "330   Infiltrating Ductal Carcinoma  Positive  Positive    Positive   \n",
            "331   Infiltrating Ductal Carcinoma  Positive  Positive    Negative   \n",
            "332  Infiltrating Lobular Carcinoma  Positive  Positive    Negative   \n",
            "333   Infiltrating Ductal Carcinoma  Positive  Positive    Negative   \n",
            "\n",
            "                    Surgery_type Date_of_Surgery Date_of_Last_Visit  \\\n",
            "0                          Other       20-May-18          26-Aug-18   \n",
            "1                          Other       26-Apr-18          25-Jan-19   \n",
            "2                     Lumpectomy       24-Aug-18          08-Apr-20   \n",
            "3                          Other       16-Nov-18          28-Jul-20   \n",
            "4                     Lumpectomy       12-Dec-18          05-Jan-19   \n",
            "..                           ...             ...                ...   \n",
            "329                   Lumpectomy       15-Jan-19          27-Mar-20   \n",
            "330  Modified Radical Mastectomy       25-Jul-18          23-Apr-19   \n",
            "331            Simple Mastectomy       26-Mar-19          11-Oct-19   \n",
            "332                   Lumpectomy       26-Nov-18          05-Dec-18   \n",
            "333  Modified Radical Mastectomy       04-Feb-19          10-Aug-19   \n",
            "\n",
            "    Patient_Status  \n",
            "0            Alive  \n",
            "1             Dead  \n",
            "2            Alive  \n",
            "3            Alive  \n",
            "4            Alive  \n",
            "..             ...  \n",
            "329          Alive  \n",
            "330          Alive  \n",
            "331           Dead  \n",
            "332          Alive  \n",
            "333           Dead  \n",
            "\n",
            "[334 rows x 14 columns]\n"
          ]
        }
      ]
    },
    {
      "cell_type": "code",
      "source": [
        "x['ER status'] = x['ER status'].map({'Positive': 1, 'Negative': 0})\n",
        "x.to_csv(\"updated_breast_cancer_survival.csv\", index=False)"
      ],
      "metadata": {
        "id": "6IDnnjgn4GDd"
      },
      "execution_count": 35,
      "outputs": []
    },
    {
      "cell_type": "code",
      "source": [
        "print(x)"
      ],
      "metadata": {
        "colab": {
          "base_uri": "https://localhost:8080/"
        },
        "id": "KIILw-X54JN2",
        "outputId": "140ad7d1-ff94-41c5-c184-fb83ad7eb77b"
      },
      "execution_count": 36,
      "outputs": [
        {
          "output_type": "stream",
          "name": "stdout",
          "text": [
            "     Age  Protein1  Protein2  Protein3  Protein4  Tumour_Stage  \\\n",
            "0     42  0.952560   2.15000  0.007972 -0.048340           0.0   \n",
            "1     54  0.000000   1.38020 -0.498030 -0.507320           0.0   \n",
            "2     63 -0.523030   1.76400 -0.370190  0.010815           0.0   \n",
            "3     78 -0.876180   0.12943 -0.370380  0.132190           1.0   \n",
            "4     42  0.226110   1.74910 -0.543970 -0.390210           0.0   \n",
            "..   ...       ...       ...       ...       ...           ...   \n",
            "329   59  0.024598   1.40050  0.024751  0.280320           0.0   \n",
            "330   41  0.100120  -0.46547  0.472370 -0.523870           1.0   \n",
            "331   54  0.753820   1.64250 -0.332850  0.857860           0.0   \n",
            "332   74  0.972510   1.42680 -0.366570 -0.107820           0.0   \n",
            "333   66  0.286380   1.39980  0.318830  0.836050           0.0   \n",
            "\n",
            "                          Histology  ER status PR status HER2 status  \\\n",
            "0     Infiltrating Ductal Carcinoma          1  Positive    Negative   \n",
            "1     Infiltrating Ductal Carcinoma          1  Positive    Negative   \n",
            "2     Infiltrating Ductal Carcinoma          1  Positive    Negative   \n",
            "3     Infiltrating Ductal Carcinoma          1  Positive    Negative   \n",
            "4     Infiltrating Ductal Carcinoma          1  Positive    Positive   \n",
            "..                              ...        ...       ...         ...   \n",
            "329   Infiltrating Ductal Carcinoma          1  Positive    Positive   \n",
            "330   Infiltrating Ductal Carcinoma          1  Positive    Positive   \n",
            "331   Infiltrating Ductal Carcinoma          1  Positive    Negative   \n",
            "332  Infiltrating Lobular Carcinoma          1  Positive    Negative   \n",
            "333   Infiltrating Ductal Carcinoma          1  Positive    Negative   \n",
            "\n",
            "                    Surgery_type Date_of_Surgery Date_of_Last_Visit  \\\n",
            "0                          Other       20-May-18          26-Aug-18   \n",
            "1                          Other       26-Apr-18          25-Jan-19   \n",
            "2                     Lumpectomy       24-Aug-18          08-Apr-20   \n",
            "3                          Other       16-Nov-18          28-Jul-20   \n",
            "4                     Lumpectomy       12-Dec-18          05-Jan-19   \n",
            "..                           ...             ...                ...   \n",
            "329                   Lumpectomy       15-Jan-19          27-Mar-20   \n",
            "330  Modified Radical Mastectomy       25-Jul-18          23-Apr-19   \n",
            "331            Simple Mastectomy       26-Mar-19          11-Oct-19   \n",
            "332                   Lumpectomy       26-Nov-18          05-Dec-18   \n",
            "333  Modified Radical Mastectomy       04-Feb-19          10-Aug-19   \n",
            "\n",
            "    Patient_Status  \n",
            "0            Alive  \n",
            "1             Dead  \n",
            "2            Alive  \n",
            "3            Alive  \n",
            "4            Alive  \n",
            "..             ...  \n",
            "329          Alive  \n",
            "330          Alive  \n",
            "331           Dead  \n",
            "332          Alive  \n",
            "333           Dead  \n",
            "\n",
            "[334 rows x 14 columns]\n"
          ]
        }
      ]
    },
    {
      "cell_type": "code",
      "source": [
        "x['PR status'] = x['PR status'].map({'Positive': 1, 'Negative': 0})\n",
        "x.to_csv(\"updated_breast_cancer_survival.csv\", index=False)"
      ],
      "metadata": {
        "id": "eVz1ShDU4Lh7"
      },
      "execution_count": 37,
      "outputs": []
    },
    {
      "cell_type": "code",
      "source": [
        "print(x)"
      ],
      "metadata": {
        "colab": {
          "base_uri": "https://localhost:8080/"
        },
        "id": "gYFfbR8Q4RhO",
        "outputId": "18e81668-aa74-4230-a3cd-56f32e53c8d3"
      },
      "execution_count": 38,
      "outputs": [
        {
          "output_type": "stream",
          "name": "stdout",
          "text": [
            "     Age  Protein1  Protein2  Protein3  Protein4  Tumour_Stage  \\\n",
            "0     42  0.952560   2.15000  0.007972 -0.048340           0.0   \n",
            "1     54  0.000000   1.38020 -0.498030 -0.507320           0.0   \n",
            "2     63 -0.523030   1.76400 -0.370190  0.010815           0.0   \n",
            "3     78 -0.876180   0.12943 -0.370380  0.132190           1.0   \n",
            "4     42  0.226110   1.74910 -0.543970 -0.390210           0.0   \n",
            "..   ...       ...       ...       ...       ...           ...   \n",
            "329   59  0.024598   1.40050  0.024751  0.280320           0.0   \n",
            "330   41  0.100120  -0.46547  0.472370 -0.523870           1.0   \n",
            "331   54  0.753820   1.64250 -0.332850  0.857860           0.0   \n",
            "332   74  0.972510   1.42680 -0.366570 -0.107820           0.0   \n",
            "333   66  0.286380   1.39980  0.318830  0.836050           0.0   \n",
            "\n",
            "                          Histology  ER status  PR status HER2 status  \\\n",
            "0     Infiltrating Ductal Carcinoma          1          1    Negative   \n",
            "1     Infiltrating Ductal Carcinoma          1          1    Negative   \n",
            "2     Infiltrating Ductal Carcinoma          1          1    Negative   \n",
            "3     Infiltrating Ductal Carcinoma          1          1    Negative   \n",
            "4     Infiltrating Ductal Carcinoma          1          1    Positive   \n",
            "..                              ...        ...        ...         ...   \n",
            "329   Infiltrating Ductal Carcinoma          1          1    Positive   \n",
            "330   Infiltrating Ductal Carcinoma          1          1    Positive   \n",
            "331   Infiltrating Ductal Carcinoma          1          1    Negative   \n",
            "332  Infiltrating Lobular Carcinoma          1          1    Negative   \n",
            "333   Infiltrating Ductal Carcinoma          1          1    Negative   \n",
            "\n",
            "                    Surgery_type Date_of_Surgery Date_of_Last_Visit  \\\n",
            "0                          Other       20-May-18          26-Aug-18   \n",
            "1                          Other       26-Apr-18          25-Jan-19   \n",
            "2                     Lumpectomy       24-Aug-18          08-Apr-20   \n",
            "3                          Other       16-Nov-18          28-Jul-20   \n",
            "4                     Lumpectomy       12-Dec-18          05-Jan-19   \n",
            "..                           ...             ...                ...   \n",
            "329                   Lumpectomy       15-Jan-19          27-Mar-20   \n",
            "330  Modified Radical Mastectomy       25-Jul-18          23-Apr-19   \n",
            "331            Simple Mastectomy       26-Mar-19          11-Oct-19   \n",
            "332                   Lumpectomy       26-Nov-18          05-Dec-18   \n",
            "333  Modified Radical Mastectomy       04-Feb-19          10-Aug-19   \n",
            "\n",
            "    Patient_Status  \n",
            "0            Alive  \n",
            "1             Dead  \n",
            "2            Alive  \n",
            "3            Alive  \n",
            "4            Alive  \n",
            "..             ...  \n",
            "329          Alive  \n",
            "330          Alive  \n",
            "331           Dead  \n",
            "332          Alive  \n",
            "333           Dead  \n",
            "\n",
            "[334 rows x 14 columns]\n"
          ]
        }
      ]
    },
    {
      "cell_type": "code",
      "source": [
        "x['HER2 status'] = x['HER2 status'].map({'Positive': 1, 'Negative': 0})\n",
        "x.to_csv(\"updated_breast_cancer_survival.csv\", index=False)"
      ],
      "metadata": {
        "id": "3mJ-q67u4TDG"
      },
      "execution_count": 39,
      "outputs": []
    },
    {
      "cell_type": "code",
      "source": [
        "print(x)"
      ],
      "metadata": {
        "colab": {
          "base_uri": "https://localhost:8080/"
        },
        "id": "P5vpli3V4W8z",
        "outputId": "d01f230a-4c9d-4a5a-9277-d6e44eff4ec1"
      },
      "execution_count": 40,
      "outputs": [
        {
          "output_type": "stream",
          "name": "stdout",
          "text": [
            "     Age  Protein1  Protein2  Protein3  Protein4  Tumour_Stage  \\\n",
            "0     42  0.952560   2.15000  0.007972 -0.048340           0.0   \n",
            "1     54  0.000000   1.38020 -0.498030 -0.507320           0.0   \n",
            "2     63 -0.523030   1.76400 -0.370190  0.010815           0.0   \n",
            "3     78 -0.876180   0.12943 -0.370380  0.132190           1.0   \n",
            "4     42  0.226110   1.74910 -0.543970 -0.390210           0.0   \n",
            "..   ...       ...       ...       ...       ...           ...   \n",
            "329   59  0.024598   1.40050  0.024751  0.280320           0.0   \n",
            "330   41  0.100120  -0.46547  0.472370 -0.523870           1.0   \n",
            "331   54  0.753820   1.64250 -0.332850  0.857860           0.0   \n",
            "332   74  0.972510   1.42680 -0.366570 -0.107820           0.0   \n",
            "333   66  0.286380   1.39980  0.318830  0.836050           0.0   \n",
            "\n",
            "                          Histology  ER status  PR status  HER2 status  \\\n",
            "0     Infiltrating Ductal Carcinoma          1          1            0   \n",
            "1     Infiltrating Ductal Carcinoma          1          1            0   \n",
            "2     Infiltrating Ductal Carcinoma          1          1            0   \n",
            "3     Infiltrating Ductal Carcinoma          1          1            0   \n",
            "4     Infiltrating Ductal Carcinoma          1          1            1   \n",
            "..                              ...        ...        ...          ...   \n",
            "329   Infiltrating Ductal Carcinoma          1          1            1   \n",
            "330   Infiltrating Ductal Carcinoma          1          1            1   \n",
            "331   Infiltrating Ductal Carcinoma          1          1            0   \n",
            "332  Infiltrating Lobular Carcinoma          1          1            0   \n",
            "333   Infiltrating Ductal Carcinoma          1          1            0   \n",
            "\n",
            "                    Surgery_type Date_of_Surgery Date_of_Last_Visit  \\\n",
            "0                          Other       20-May-18          26-Aug-18   \n",
            "1                          Other       26-Apr-18          25-Jan-19   \n",
            "2                     Lumpectomy       24-Aug-18          08-Apr-20   \n",
            "3                          Other       16-Nov-18          28-Jul-20   \n",
            "4                     Lumpectomy       12-Dec-18          05-Jan-19   \n",
            "..                           ...             ...                ...   \n",
            "329                   Lumpectomy       15-Jan-19          27-Mar-20   \n",
            "330  Modified Radical Mastectomy       25-Jul-18          23-Apr-19   \n",
            "331            Simple Mastectomy       26-Mar-19          11-Oct-19   \n",
            "332                   Lumpectomy       26-Nov-18          05-Dec-18   \n",
            "333  Modified Radical Mastectomy       04-Feb-19          10-Aug-19   \n",
            "\n",
            "    Patient_Status  \n",
            "0            Alive  \n",
            "1             Dead  \n",
            "2            Alive  \n",
            "3            Alive  \n",
            "4            Alive  \n",
            "..             ...  \n",
            "329          Alive  \n",
            "330          Alive  \n",
            "331           Dead  \n",
            "332          Alive  \n",
            "333           Dead  \n",
            "\n",
            "[334 rows x 14 columns]\n"
          ]
        }
      ]
    },
    {
      "cell_type": "code",
      "source": [
        "x['Patient_Status'] = x['Patient_Status'].map({'Alive': 1, 'Dead': 0})\n",
        "x.to_csv(\"updated_breast_cancer_survival.csv\",index=False)"
      ],
      "metadata": {
        "id": "w2pXn8E84X1s"
      },
      "execution_count": 41,
      "outputs": []
    },
    {
      "cell_type": "code",
      "source": [
        "print(x)"
      ],
      "metadata": {
        "colab": {
          "base_uri": "https://localhost:8080/"
        },
        "id": "a242zy3q4dhI",
        "outputId": "65fe47d5-074c-4d1b-9072-673b1ba14609"
      },
      "execution_count": 42,
      "outputs": [
        {
          "output_type": "stream",
          "name": "stdout",
          "text": [
            "     Age  Protein1  Protein2  Protein3  Protein4  Tumour_Stage  \\\n",
            "0     42  0.952560   2.15000  0.007972 -0.048340           0.0   \n",
            "1     54  0.000000   1.38020 -0.498030 -0.507320           0.0   \n",
            "2     63 -0.523030   1.76400 -0.370190  0.010815           0.0   \n",
            "3     78 -0.876180   0.12943 -0.370380  0.132190           1.0   \n",
            "4     42  0.226110   1.74910 -0.543970 -0.390210           0.0   \n",
            "..   ...       ...       ...       ...       ...           ...   \n",
            "329   59  0.024598   1.40050  0.024751  0.280320           0.0   \n",
            "330   41  0.100120  -0.46547  0.472370 -0.523870           1.0   \n",
            "331   54  0.753820   1.64250 -0.332850  0.857860           0.0   \n",
            "332   74  0.972510   1.42680 -0.366570 -0.107820           0.0   \n",
            "333   66  0.286380   1.39980  0.318830  0.836050           0.0   \n",
            "\n",
            "                          Histology  ER status  PR status  HER2 status  \\\n",
            "0     Infiltrating Ductal Carcinoma          1          1            0   \n",
            "1     Infiltrating Ductal Carcinoma          1          1            0   \n",
            "2     Infiltrating Ductal Carcinoma          1          1            0   \n",
            "3     Infiltrating Ductal Carcinoma          1          1            0   \n",
            "4     Infiltrating Ductal Carcinoma          1          1            1   \n",
            "..                              ...        ...        ...          ...   \n",
            "329   Infiltrating Ductal Carcinoma          1          1            1   \n",
            "330   Infiltrating Ductal Carcinoma          1          1            1   \n",
            "331   Infiltrating Ductal Carcinoma          1          1            0   \n",
            "332  Infiltrating Lobular Carcinoma          1          1            0   \n",
            "333   Infiltrating Ductal Carcinoma          1          1            0   \n",
            "\n",
            "                    Surgery_type Date_of_Surgery Date_of_Last_Visit  \\\n",
            "0                          Other       20-May-18          26-Aug-18   \n",
            "1                          Other       26-Apr-18          25-Jan-19   \n",
            "2                     Lumpectomy       24-Aug-18          08-Apr-20   \n",
            "3                          Other       16-Nov-18          28-Jul-20   \n",
            "4                     Lumpectomy       12-Dec-18          05-Jan-19   \n",
            "..                           ...             ...                ...   \n",
            "329                   Lumpectomy       15-Jan-19          27-Mar-20   \n",
            "330  Modified Radical Mastectomy       25-Jul-18          23-Apr-19   \n",
            "331            Simple Mastectomy       26-Mar-19          11-Oct-19   \n",
            "332                   Lumpectomy       26-Nov-18          05-Dec-18   \n",
            "333  Modified Radical Mastectomy       04-Feb-19          10-Aug-19   \n",
            "\n",
            "     Patient_Status  \n",
            "0               1.0  \n",
            "1               0.0  \n",
            "2               1.0  \n",
            "3               1.0  \n",
            "4               1.0  \n",
            "..              ...  \n",
            "329             1.0  \n",
            "330             1.0  \n",
            "331             0.0  \n",
            "332             1.0  \n",
            "333             0.0  \n",
            "\n",
            "[334 rows x 14 columns]\n"
          ]
        }
      ]
    },
    {
      "cell_type": "code",
      "source": [
        "drp=['Histology','Date_of_Surgery','Date_of_Last_Visit','Surgery_type']\n",
        "x1=x.drop(columns=drp)"
      ],
      "metadata": {
        "id": "tVeq_Qyc4eoY"
      },
      "execution_count": 43,
      "outputs": []
    },
    {
      "cell_type": "code",
      "source": [
        "print(x1)"
      ],
      "metadata": {
        "colab": {
          "base_uri": "https://localhost:8080/"
        },
        "id": "I9M-xV-h400_",
        "outputId": "809b0111-5370-4257-97d0-38022dfd09f6"
      },
      "execution_count": 44,
      "outputs": [
        {
          "output_type": "stream",
          "name": "stdout",
          "text": [
            "     Age  Protein1  Protein2  Protein3  Protein4  Tumour_Stage  ER status  \\\n",
            "0     42  0.952560   2.15000  0.007972 -0.048340           0.0          1   \n",
            "1     54  0.000000   1.38020 -0.498030 -0.507320           0.0          1   \n",
            "2     63 -0.523030   1.76400 -0.370190  0.010815           0.0          1   \n",
            "3     78 -0.876180   0.12943 -0.370380  0.132190           1.0          1   \n",
            "4     42  0.226110   1.74910 -0.543970 -0.390210           0.0          1   \n",
            "..   ...       ...       ...       ...       ...           ...        ...   \n",
            "329   59  0.024598   1.40050  0.024751  0.280320           0.0          1   \n",
            "330   41  0.100120  -0.46547  0.472370 -0.523870           1.0          1   \n",
            "331   54  0.753820   1.64250 -0.332850  0.857860           0.0          1   \n",
            "332   74  0.972510   1.42680 -0.366570 -0.107820           0.0          1   \n",
            "333   66  0.286380   1.39980  0.318830  0.836050           0.0          1   \n",
            "\n",
            "     PR status  HER2 status  Patient_Status  \n",
            "0            1            0             1.0  \n",
            "1            1            0             0.0  \n",
            "2            1            0             1.0  \n",
            "3            1            0             1.0  \n",
            "4            1            1             1.0  \n",
            "..         ...          ...             ...  \n",
            "329          1            1             1.0  \n",
            "330          1            1             1.0  \n",
            "331          1            0             0.0  \n",
            "332          1            0             1.0  \n",
            "333          1            0             0.0  \n",
            "\n",
            "[334 rows x 10 columns]\n"
          ]
        }
      ]
    },
    {
      "cell_type": "code",
      "source": [
        "y=x1['Patient_Status']\n",
        "x2=x1.drop('Patient_Status',axis=1)"
      ],
      "metadata": {
        "id": "e8PT1Srd4393"
      },
      "execution_count": 45,
      "outputs": []
    },
    {
      "cell_type": "code",
      "source": [
        "print(y)\n",
        "print(x2)"
      ],
      "metadata": {
        "colab": {
          "base_uri": "https://localhost:8080/"
        },
        "id": "8-JcYyLy47mp",
        "outputId": "954879e4-9429-4148-9bbf-7def2146ad2c"
      },
      "execution_count": 46,
      "outputs": [
        {
          "output_type": "stream",
          "name": "stdout",
          "text": [
            "0      1.0\n",
            "1      0.0\n",
            "2      1.0\n",
            "3      1.0\n",
            "4      1.0\n",
            "      ... \n",
            "329    1.0\n",
            "330    1.0\n",
            "331    0.0\n",
            "332    1.0\n",
            "333    0.0\n",
            "Name: Patient_Status, Length: 334, dtype: float64\n",
            "     Age  Protein1  Protein2  Protein3  Protein4  Tumour_Stage  ER status  \\\n",
            "0     42  0.952560   2.15000  0.007972 -0.048340           0.0          1   \n",
            "1     54  0.000000   1.38020 -0.498030 -0.507320           0.0          1   \n",
            "2     63 -0.523030   1.76400 -0.370190  0.010815           0.0          1   \n",
            "3     78 -0.876180   0.12943 -0.370380  0.132190           1.0          1   \n",
            "4     42  0.226110   1.74910 -0.543970 -0.390210           0.0          1   \n",
            "..   ...       ...       ...       ...       ...           ...        ...   \n",
            "329   59  0.024598   1.40050  0.024751  0.280320           0.0          1   \n",
            "330   41  0.100120  -0.46547  0.472370 -0.523870           1.0          1   \n",
            "331   54  0.753820   1.64250 -0.332850  0.857860           0.0          1   \n",
            "332   74  0.972510   1.42680 -0.366570 -0.107820           0.0          1   \n",
            "333   66  0.286380   1.39980  0.318830  0.836050           0.0          1   \n",
            "\n",
            "     PR status  HER2 status  \n",
            "0            1            0  \n",
            "1            1            0  \n",
            "2            1            0  \n",
            "3            1            0  \n",
            "4            1            1  \n",
            "..         ...          ...  \n",
            "329          1            1  \n",
            "330          1            1  \n",
            "331          1            0  \n",
            "332          1            0  \n",
            "333          1            0  \n",
            "\n",
            "[334 rows x 9 columns]\n"
          ]
        }
      ]
    },
    {
      "cell_type": "code",
      "source": [
        "import pandas as pd\n",
        "from sklearn.model_selection import train_test_split\n",
        "a=pd.read_csv('/content/breast_cancer_survival.csv')\n",
        "b=a.fillna(0)\n",
        "l=b.iloc[0:334,14:15]\n",
        "a['Patient_Status']=a['Patient_Status'].replace({'Alive': 0, 'Dead': 1})\n",
        "x= a.drop(\"Patient_Status\", axis='columns')\n",
        "k=a.drop(\"Histology\",axis='columns')\n",
        "k=k.drop(\"Surgery_type\",axis='columns')\n",
        "k=k.drop(\"Date_of_Surgery\",axis='columns')\n",
        "k=k.drop(\"Date_of_Last_Visit\",axis='columns')\n",
        "k['Tumour_Stage']=k['Tumour_Stage'].replace({'I': 0, 'II': 1,'III':2})\n",
        "k['Gender']=k['Gender'].replace({'MALE': 0, 'FEMALE': 1})\n",
        "k['ER status']=k['ER status'].replace({'Negative': 0, 'Positive': 1})\n",
        "k['HER2 status']=k['HER2 status'].replace({'Negative': 0, 'Positive': 1})\n",
        "k['PR status']=k['PR status'].replace({'Negative': 0, 'Positive': 1})\n",
        "k['Patient_Status']=k['Patient_Status'].replace({'Alive': 1, 'Dead': 0})\n",
        "y=k[\"Patient_Status\"]\n",
        "x= k.drop(\"Patient_Status\", axis='columns')\n",
        "print(k)"
      ],
      "metadata": {
        "colab": {
          "base_uri": "https://localhost:8080/"
        },
        "id": "dlXSqTft479E",
        "outputId": "8e283efb-a152-489a-9810-f9a01d5ee112"
      },
      "execution_count": 47,
      "outputs": [
        {
          "output_type": "stream",
          "name": "stdout",
          "text": [
            "     Age  Gender  Protein1  Protein2  Protein3  Protein4  Tumour_Stage  \\\n",
            "0     42       1  0.952560   2.15000  0.007972 -0.048340             1   \n",
            "1     54       1  0.000000   1.38020 -0.498030 -0.507320             1   \n",
            "2     63       1 -0.523030   1.76400 -0.370190  0.010815             1   \n",
            "3     78       1 -0.876180   0.12943 -0.370380  0.132190             0   \n",
            "4     42       1  0.226110   1.74910 -0.543970 -0.390210             1   \n",
            "..   ...     ...       ...       ...       ...       ...           ...   \n",
            "329   59       1  0.024598   1.40050  0.024751  0.280320             1   \n",
            "330   41       1  0.100120  -0.46547  0.472370 -0.523870             0   \n",
            "331   54       1  0.753820   1.64250 -0.332850  0.857860             1   \n",
            "332   74       1  0.972510   1.42680 -0.366570 -0.107820             1   \n",
            "333   66       1  0.286380   1.39980  0.318830  0.836050             1   \n",
            "\n",
            "     ER status  PR status  HER2 status  Patient_Status  \n",
            "0            1          1            0             0.0  \n",
            "1            1          1            0             1.0  \n",
            "2            1          1            0             0.0  \n",
            "3            1          1            0             0.0  \n",
            "4            1          1            1             0.0  \n",
            "..         ...        ...          ...             ...  \n",
            "329          1          1            1             0.0  \n",
            "330          1          1            1             0.0  \n",
            "331          1          1            0             1.0  \n",
            "332          1          1            0             0.0  \n",
            "333          1          1            0             1.0  \n",
            "\n",
            "[334 rows x 11 columns]\n"
          ]
        }
      ]
    },
    {
      "cell_type": "code",
      "source": [
        "import pandas as pd\n",
        "from sklearn.model_selection import train_test_split\n",
        "a=pd.read_csv('/breast_cancer_survival.csv')\n",
        "b=a.fillna(0)\n",
        "l=b.iloc[0:334,14:15]\n",
        "a['Patient_Status']=a['Patient_Status'].replace({'Alive': 0, 'Dead': 1})\n",
        "x= a.drop(\"Patient_Status\", axis='columns')\n",
        "k=a.drop(\"Histology\",axis='columns')\n",
        "k=k.drop(\"Surgery_type\",axis='columns')\n",
        "k=k.drop(\"Date_of_Surgery\",axis='columns')\n",
        "k=k.drop(\"Date_of_Last_Visit\",axis='columns')\n",
        "k=k.drop(\"Tumour_Stage\",axis='columns')\n",
        "k=k.drop(\"Age\",axis='columns')\n",
        "k=k.drop(\"Gender\",axis='columns')\n",
        "k=k.drop(\"ER status\",axis='columns')\n",
        "k=k.drop(\"PR status\",axis='columns')\n",
        "k=k.drop(\"HER2 status\",axis='columns')\n",
        "k['Patient_Status']=k['Patient_Status'].replace({'Alive': 1, 'Dead': 0})\n",
        "y=k[\"Patient_Status\"]\n",
        "x= k.drop(\"Patient_Status\", axis='columns')\n",
        "print(k)"
      ],
      "metadata": {
        "colab": {
          "base_uri": "https://localhost:8080/"
        },
        "id": "holFV67W4_lM",
        "outputId": "e2f4913d-8a34-4851-e3b2-967542b51487"
      },
      "execution_count": 48,
      "outputs": [
        {
          "output_type": "stream",
          "name": "stdout",
          "text": [
            "     Protein1  Protein2  Protein3  Protein4  Patient_Status\n",
            "0    0.952560   2.15000  0.007972 -0.048340             0.0\n",
            "1    0.000000   1.38020 -0.498030 -0.507320             1.0\n",
            "2   -0.523030   1.76400 -0.370190  0.010815             0.0\n",
            "3   -0.876180   0.12943 -0.370380  0.132190             0.0\n",
            "4    0.226110   1.74910 -0.543970 -0.390210             0.0\n",
            "..        ...       ...       ...       ...             ...\n",
            "329  0.024598   1.40050  0.024751  0.280320             0.0\n",
            "330  0.100120  -0.46547  0.472370 -0.523870             0.0\n",
            "331  0.753820   1.64250 -0.332850  0.857860             1.0\n",
            "332  0.972510   1.42680 -0.366570 -0.107820             0.0\n",
            "333  0.286380   1.39980  0.318830  0.836050             1.0\n",
            "\n",
            "[334 rows x 5 columns]\n"
          ]
        }
      ]
    },
    {
      "cell_type": "code",
      "source": [
        "import numpy as np\n",
        "import pandas as pd\n",
        "import matplotlib.pyplot as plt\n",
        "from sklearn.preprocessing import MinMaxScaler\n",
        "from sklearn.model_selection import train_test_split\n",
        "from sklearn.linear_model import LogisticRegression\n",
        "from sklearn.metrics import accuracy_score\n",
        "def logistic_regression(data):\n",
        "    data['Patient_Status'] = data['Patient_Status'].map({'Alive': 1, 'Dead': 0})\n",
        "    data['HER2 status'] = data['HER2 status'].map({'Positive': 1, 'Negative': 0})\n",
        "    data = data.fillna(data.mean())\n",
        "    columns_to_drop = ['Surgery_type', 'Date_of_Surgery', 'Date_of_Last_Visit', 'Histology', 'Tumour_Stage', 'Gender','ER status','PR status']\n",
        "    data = data.drop(columns=columns_to_drop)\n",
        "    if data['Patient_Status'].isnull().sum() > 0:\n",
        "        raise ValueError(\"NaNs found in the target variable.\")\n",
        "    features = data.drop(\"Patient_Status\", axis=1)\n",
        "    target = data[\"Patient_Status\"].astype(int)\n",
        "    x_train, x_test, y_train, y_test = train_test_split(features, target, test_size=0.2, random_state=42)\n",
        "    logistic_reg = LogisticRegression()\n",
        "    logistic_reg.fit(x_train, y_train)\n",
        "    y_pred = logistic_reg.predict(x_test)\n",
        "    accuracy = accuracy_score(y_test, y_pred)\n",
        "    print(\"Accuracy:\", accuracy)\n",
        "data = pd.read_csv(\"/content/breast_cancer_survival.csv\")\n",
        "logistic_regression(data)"
      ],
      "metadata": {
        "colab": {
          "base_uri": "https://localhost:8080/"
        },
        "id": "u6To2bDZ9ckj",
        "outputId": "1a93bba4-459c-4de2-bb15-a183931350bf"
      },
      "execution_count": 49,
      "outputs": [
        {
          "output_type": "stream",
          "name": "stdout",
          "text": [
            "Accuracy: 0.7761194029850746\n"
          ]
        },
        {
          "output_type": "stream",
          "name": "stderr",
          "text": [
            "<ipython-input-49-b7d6982706d3>:11: FutureWarning: The default value of numeric_only in DataFrame.mean is deprecated. In a future version, it will default to False. In addition, specifying 'numeric_only=None' is deprecated. Select only valid columns or specify the value of numeric_only to silence this warning.\n",
            "  data = data.fillna(data.mean())\n"
          ]
        }
      ]
    }
  ]
}