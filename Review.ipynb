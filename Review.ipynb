{
  "nbformat": 4,
  "nbformat_minor": 0,
  "metadata": {
    "colab": {
      "provenance": []
    },
    "kernelspec": {
      "name": "python3",
      "display_name": "Python 3"
    },
    "language_info": {
      "name": "python"
    }
  },
  "cells": [
    {
      "cell_type": "code",
      "source": [
        "from sklearn.metrics import mean_squared_error, r2_score\n",
        "from sklearn.model_selection import train_test_split\n",
        "from sklearn.linear_model import LinearRegression\n",
        "from sklearn.svm import SVR\n",
        "import pandas as pd\n",
        "import numpy as np\n",
        "a=pd.read_csv(\"/content/laptop_data_cleaned.csv\")\n",
        "print(a)"
      ],
      "metadata": {
        "colab": {
          "base_uri": "https://localhost:8080/"
        },
        "id": "Gb-Ge_n-wD6K",
        "outputId": "2bc3b74d-63f7-449b-bf82-b5a6b1dcb833"
      },
      "execution_count": 14,
      "outputs": [
        {
          "output_type": "stream",
          "name": "stdout",
          "text": [
            "     Company            TypeName  Ram  Weight      Price  TouchScreen  Ips  \\\n",
            "0      Apple           Ultrabook    8    1.37  11.175755            0    1   \n",
            "1      Apple           Ultrabook    8    1.34  10.776777            0    0   \n",
            "2         HP            Notebook    8    1.86  10.329931            0    0   \n",
            "3      Apple           Ultrabook   16    1.83  11.814476            0    1   \n",
            "4      Apple           Ultrabook    8    1.37  11.473101            0    1   \n",
            "...      ...                 ...  ...     ...        ...          ...  ...   \n",
            "1268    Asus            Notebook    4    2.20  10.555257            0    0   \n",
            "1269  Lenovo  2 in 1 Convertible    4    1.80  10.433899            1    1   \n",
            "1270  Lenovo  2 in 1 Convertible   16    1.30  11.288115            1    1   \n",
            "1271  Lenovo            Notebook    2    1.50   9.409283            0    0   \n",
            "1272      HP            Notebook    6    2.19  10.614129            0    0   \n",
            "\n",
            "             Ppi              Cpu_brand   HDD  SSD Gpu_brand       Os  \n",
            "0     226.983005          Intel Core i5     0  128     Intel      Mac  \n",
            "1     127.677940          Intel Core i5     0    0     Intel      Mac  \n",
            "2     141.211998          Intel Core i5     0  256     Intel   Others  \n",
            "3     220.534624          Intel Core i7     0  512       AMD      Mac  \n",
            "4     226.983005          Intel Core i5     0  256     Intel      Mac  \n",
            "...          ...                    ...   ...  ...       ...      ...  \n",
            "1268  100.454670          Intel Core i7   500    0    Nvidia  Windows  \n",
            "1269  157.350512          Intel Core i7     0  128     Intel  Windows  \n",
            "1270  276.053530          Intel Core i7     0  512     Intel  Windows  \n",
            "1271  111.935204  Other Intel Processor     0    0     Intel  Windows  \n",
            "1272  100.454670          Intel Core i7  1000    0       AMD  Windows  \n",
            "\n",
            "[1273 rows x 13 columns]\n"
          ]
        }
      ]
    },
    {
      "cell_type": "code",
      "source": [
        "y=a['Price']\n",
        "x=a.drop(['TypeName','Cpu_brand','Gpu_brand','Os','Company'],axis=1)\n",
        "x_train,x_test,y_train,y_test=train_test_split(x,y,test_size=0.20,random_state=42)\n",
        "print(x_train.shape,y_train.shape)\n",
        "print(x)"
      ],
      "metadata": {
        "colab": {
          "base_uri": "https://localhost:8080/"
        },
        "id": "iKHnD5-Swy6f",
        "outputId": "dd833780-6ba5-4eab-88b9-dbd7441de888"
      },
      "execution_count": 15,
      "outputs": [
        {
          "output_type": "stream",
          "name": "stdout",
          "text": [
            "(1018, 8) (1018,)\n",
            "      Ram  Weight      Price  TouchScreen  Ips         Ppi   HDD  SSD\n",
            "0       8    1.37  11.175755            0    1  226.983005     0  128\n",
            "1       8    1.34  10.776777            0    0  127.677940     0    0\n",
            "2       8    1.86  10.329931            0    0  141.211998     0  256\n",
            "3      16    1.83  11.814476            0    1  220.534624     0  512\n",
            "4       8    1.37  11.473101            0    1  226.983005     0  256\n",
            "...   ...     ...        ...          ...  ...         ...   ...  ...\n",
            "1268    4    2.20  10.555257            0    0  100.454670   500    0\n",
            "1269    4    1.80  10.433899            1    1  157.350512     0  128\n",
            "1270   16    1.30  11.288115            1    1  276.053530     0  512\n",
            "1271    2    1.50   9.409283            0    0  111.935204     0    0\n",
            "1272    6    2.19  10.614129            0    0  100.454670  1000    0\n",
            "\n",
            "[1273 rows x 8 columns]\n"
          ]
        }
      ]
    },
    {
      "cell_type": "code",
      "source": [
        "lr_model = LinearRegression()\n",
        "mm=lr_model.fit(x_train, y_train)\n",
        "print(\"Coefficient: \",mm.coef_)"
      ],
      "metadata": {
        "id": "R6moBLZGycfk",
        "colab": {
          "base_uri": "https://localhost:8080/"
        },
        "outputId": "1004b391-0c4d-4366-b97f-81449c9dcf50"
      },
      "execution_count": 16,
      "outputs": [
        {
          "output_type": "stream",
          "name": "stdout",
          "text": [
            "Coefficient:  [-1.89202630e-14 -1.07019428e-14  1.00000000e+00 -6.18918801e-15\n",
            "  5.92078995e-16  1.85506992e-16  1.27068495e-16  8.69530142e-16]\n"
          ]
        }
      ]
    },
    {
      "cell_type": "code",
      "source": [
        "print(\"Intercept: \",mm.intercept_)"
      ],
      "metadata": {
        "id": "XD0ol13sJfmN",
        "colab": {
          "base_uri": "https://localhost:8080/"
        },
        "outputId": "fcde125b-8447-4218-fd95-b2e4b0a991b7"
      },
      "execution_count": 17,
      "outputs": [
        {
          "output_type": "stream",
          "name": "stdout",
          "text": [
            "Intercept:  6.750155989720952e-14\n"
          ]
        }
      ]
    },
    {
      "cell_type": "code",
      "source": [
        "ypred=mm.predict(x_test)\n",
        "print(\"Linear Regression(LR): \",mean_squared_error(y_test,ypred))"
      ],
      "metadata": {
        "id": "hPEkJ-5RTOir",
        "colab": {
          "base_uri": "https://localhost:8080/"
        },
        "outputId": "cf70f86c-7ad7-4b82-8efa-b89c1acac274"
      },
      "execution_count": 24,
      "outputs": [
        {
          "output_type": "stream",
          "name": "stdout",
          "text": [
            "Linear Regression(LR):  9.5370870454922e-27\n"
          ]
        }
      ]
    },
    {
      "cell_type": "code",
      "source": [
        "ypp=mm.predict(x_test)\n",
        "print(\"Support Vector Machine(SVM): \",mean_squared_error(y_test,ypp))"
      ],
      "metadata": {
        "id": "IyR8yfBETSCS",
        "colab": {
          "base_uri": "https://localhost:8080/"
        },
        "outputId": "b364b498-22bd-4c92-f255-325610cdbfcb"
      },
      "execution_count": 25,
      "outputs": [
        {
          "output_type": "stream",
          "name": "stdout",
          "text": [
            "Support Vector Machine(SVM):  9.5370870454922e-27\n"
          ]
        }
      ]
    },
    {
      "cell_type": "code",
      "source": [
        "lr_predictions = lr_model.predict(x_test)\n",
        "mse = mean_squared_error(y_test, lr_predictions)\n",
        "r2 = r2_score(y_test, lr_predictions)\n",
        "\n",
        "print(f\"Linear Regression Mean Squared Error: {mse:.2f}\")\n",
        "print(f\"Linear Regression R-squared: {r2:.2f}\")"
      ],
      "metadata": {
        "id": "sbeBvyscTXmE",
        "colab": {
          "base_uri": "https://localhost:8080/"
        },
        "outputId": "493ce093-8cd8-466d-99b5-79c233461baa"
      },
      "execution_count": 22,
      "outputs": [
        {
          "output_type": "stream",
          "name": "stdout",
          "text": [
            "Linear Regression Mean Squared Error: 0.00\n",
            "Linear Regression R-squared: 1.00\n"
          ]
        }
      ]
    },
    {
      "cell_type": "code",
      "source": [
        "df = pd.read_csv(\"/content/laptop_data_cleaned.csv\")\n",
        "columns_to_scale = ['Ram', 'Weight', 'TouchScreen','Ips','Ppi','HDD','SSD']\n",
        "\n",
        "for column in columns_to_scale:\n",
        "    x_min = df['Ram'].min()\n",
        "    x_max = df['Weight'].max()\n",
        "    df['Ram'] = (df['Weight'] - x_min) / (x_max - x_min)\n",
        "\n",
        "df.to_csv(\"/content/laptop_data_scaled.csv\", index=False)\n",
        "print(\"Min:\",x_min)\n",
        "print(\"Max:\",x_max)"
      ],
      "metadata": {
        "id": "hDgFL_OfbC7L",
        "colab": {
          "base_uri": "https://localhost:8080/"
        },
        "outputId": "25fe6b2f-cc36-4e62-ade2-eb74df4f45bd"
      },
      "execution_count": 23,
      "outputs": [
        {
          "output_type": "stream",
          "name": "stdout",
          "text": [
            "Min: 0.12387981349711269\n",
            "Max: 4.7\n"
          ]
        }
      ]
    },
    {
      "cell_type": "code",
      "source": [],
      "metadata": {
        "id": "XH8U7ybEcVAS"
      },
      "execution_count": null,
      "outputs": []
    }
  ]
}